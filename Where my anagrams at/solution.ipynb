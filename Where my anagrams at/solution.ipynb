{
 "cells": [
  {
   "cell_type": "markdown",
   "id": "af91fa6e-16e4-4594-a945-ae2fc1c09f8d",
   "metadata": {},
   "source": [
    "DESCRIPTION:\r\n",
    "What is an anagram? Well, two words are anagrams of each other if they both contain the same letters. For example:\r\n",
    "\r\n",
    "'abba' & 'baab' == true\r\n",
    "\r\n",
    "'abba' & 'bbaa' == true\r\n",
    "\r\n",
    "'abba' & 'abbba' == false\r\n",
    "\r\n",
    "'abba' & 'abca' == false\r\n",
    "Write a function that will find all the anagrams of a word from a list. You will be given two inputs a word and an array with words. You should return an array of all the anagrams or an empty array if there are none. For example:\r\n",
    "\r\n",
    "anagrams('abba', ['aabb', 'abcd', 'bbaa', 'dada']) => ['aabb', 'bbaa']\r\n",
    "\r\n",
    "anagrams('racer', ['crazer', 'carer', 'racar', 'caers', 'racer']) => ['carer', 'racer']\r\n",
    "\r\n",
    "anagrams('laser', ['lazing', 'lazy',  'lacer']) => []"
   ]
  },
  {
   "cell_type": "code",
   "execution_count": null,
   "id": "6e05a64b-3e83-4d7b-9909-6c46c9af5456",
   "metadata": {},
   "outputs": [],
   "source": [
    "def anagrams(word, words):\n",
    "    w_set = set(word)\n",
    "    for t_word in words.copy():\n",
    "        if len(t_word) == len(word):\n",
    "            for c in w_set:\n",
    "                if word.count(c) != t_word.count(c):\n",
    "                    words.remove(t_word)\n",
    "                    break\n",
    "        else:\n",
    "            words.remove(t_word)\n",
    "    return words"
   ]
  }
 ],
 "metadata": {
  "kernelspec": {
   "display_name": "Python 3 (ipykernel)",
   "language": "python",
   "name": "python3"
  },
  "language_info": {
   "codemirror_mode": {
    "name": "ipython",
    "version": 3
   },
   "file_extension": ".py",
   "mimetype": "text/x-python",
   "name": "python",
   "nbconvert_exporter": "python",
   "pygments_lexer": "ipython3",
   "version": "3.11.4"
  }
 },
 "nbformat": 4,
 "nbformat_minor": 5
}
