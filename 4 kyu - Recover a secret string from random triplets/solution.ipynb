{
 "cells": [
  {
   "cell_type": "markdown",
   "id": "c9454bfb-0b8b-46bf-8baa-21b4c5ffcf6a",
   "metadata": {},
   "source": [
    "DESCRIPTION:\r\n",
    "There is a secret string which is unknown to you. Given a collection of random triplets from the string, recover the original string.\r\n",
    "\r\n",
    "A triplet here is defined as a sequence of three letters such that each letter occurs somewhere before the next in the given string. \"whi\" is a triplet for the string \"whatisup\".\r\n",
    "\r\n",
    "As a simplification, you may assume that no letter occurs more than once in the secret string.\r\n",
    "\r\n",
    "You can assume nothing about the triplets given to you other than that they are valid triplets and that they contain sufficient information to deduce the original string. In particular, this means that the secret string will never contain letters that do not occur in one of the triplets given to you."
   ]
  },
  {
   "cell_type": "code",
   "execution_count": null,
   "id": "27f8d93d-e1b4-4285-a01f-e04bd11d6e63",
   "metadata": {},
   "outputs": [],
   "source": [
    "def recoverSecret(triplets):\n",
    "    res = {}\n",
    "    there_are_ch = True\n",
    "    while there_are_ch:\n",
    "        there_are_ch = False\n",
    "        for elem in triplets:\n",
    "            for i in range(len(elem)):\n",
    "                if elem[i] not in res:\n",
    "                    res[elem[i]] = i\n",
    "                else:\n",
    "                    if i>0 and res[elem[i]] <= res[elem[i-1]]:\n",
    "                        res[elem[i]] = res[elem[i-1]] + 1\n",
    "                        there_are_ch = True\n",
    "    res = ''.join([x[0] for x in sorted(res.items(), key = lambda item: item[1])])\n",
    "    return res"
   ]
  }
 ],
 "metadata": {
  "kernelspec": {
   "display_name": "Python 3 (ipykernel)",
   "language": "python",
   "name": "python3"
  },
  "language_info": {
   "codemirror_mode": {
    "name": "ipython",
    "version": 3
   },
   "file_extension": ".py",
   "mimetype": "text/x-python",
   "name": "python",
   "nbconvert_exporter": "python",
   "pygments_lexer": "ipython3",
   "version": "3.11.4"
  }
 },
 "nbformat": 4,
 "nbformat_minor": 5
}
