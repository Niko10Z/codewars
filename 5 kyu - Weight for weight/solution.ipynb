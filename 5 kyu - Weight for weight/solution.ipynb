{
 "cells": [
  {
   "cell_type": "markdown",
   "id": "58f0ea10-38c4-47c8-833d-a9e185fe7e95",
   "metadata": {},
   "source": [
    "DESCRIPTION:\r\n",
    "My friend John and I are members of the \"Fat to Fit Club (FFC)\". John is worried because each month a list with the weights of members is published and each month he is the last on the list which means he is the heaviest.\r\n",
    "\r\n",
    "I am the one who establishes the list so I told him: \"Don't worry any more, I will modify the order of the list\". It was decided to attribute a \"weight\" to numbers. The weight of a number will be from now on the sum of its digits.\r\n",
    "\r\n",
    "For example 99 will have \"weight\" 18, 100 will have \"weight\" 1 so in the list 100 will come before 99.\r\n",
    "\r\n",
    "Given a string with the weights of FFC members in normal order can you give this string ordered by \"weights\" of these numbers?\r\n",
    "\r\n",
    "Example:\r\n",
    "\"56 65 74 100 99 68 86 180 90\" ordered by numbers weights becomes: \r\n",
    "\r\n",
    "\"100 180 90 56 65 74 68 86 99\"\r\n",
    "When two numbers have the same \"weight\", let us class them as if they were strings (alphabetical ordering) and not numbers:\r\n",
    "\r\n",
    "180 is before 90 since, having the same \"weight\" (9), it comes before as a string.\r\n",
    "\r\n",
    "All numbers in the list are positive numbers and the list can be empty.\r\n",
    "\r\n",
    "Notes\r\n",
    "it may happen that the input string have leading, trailing whitespaces and more than a unique whitespace between two consecutive numbers\r\n",
    "For C: The result is freed."
   ]
  },
  {
   "cell_type": "code",
   "execution_count": null,
   "id": "ceff00a7-13b5-4984-9dbb-bea57eb48d20",
   "metadata": {},
   "outputs": [],
   "source": [
    "def order_weight(strng):\n",
    "    tmp = {}\n",
    "    for num in strng.split(' '):\n",
    "        sm = sum(int(s) for s in num)\n",
    "        if sm in tmp:\n",
    "            tmp[sm].append(num)\n",
    "        else:\n",
    "            tmp[sm] = [num]\n",
    "    return ' '.join(num for elem in sorted(tmp) for num in sorted(tmp[elem]))"
   ]
  }
 ],
 "metadata": {
  "kernelspec": {
   "display_name": "Python 3 (ipykernel)",
   "language": "python",
   "name": "python3"
  },
  "language_info": {
   "codemirror_mode": {
    "name": "ipython",
    "version": 3
   },
   "file_extension": ".py",
   "mimetype": "text/x-python",
   "name": "python",
   "nbconvert_exporter": "python",
   "pygments_lexer": "ipython3",
   "version": "3.11.4"
  }
 },
 "nbformat": 4,
 "nbformat_minor": 5
}
