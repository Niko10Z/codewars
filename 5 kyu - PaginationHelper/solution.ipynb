{
 "cells": [
  {
   "cell_type": "markdown",
   "id": "7ef31900-46b0-4f33-8bf6-fbf30150a6b7",
   "metadata": {},
   "source": [
    "DESCRIPTION:\r\n",
    "For this exercise you will be strengthening your page-fu mastery. You will complete the PaginationHelper class, which is a utility class helpful for querying paging information related to an array.\r\n",
    "\r\n",
    "The class is designed to take in an array of values and an integer indicating how many items will be allowed per each page. The types of values contained within the collection/array are not relevant.\r\n",
    "\r\n",
    "The following are some examples of how this class is used:\r\n",
    "\r\n",
    "helper = PaginationHelper(['a','b','c','d','e','f'], 4)\r\n",
    "helper.page_count() # should == 2\r\n",
    "helper.item_count() # should == 6\r\n",
    "helper.page_item_count(0) # should == 4\r\n",
    "helper.page_item_count(1) # last page - should == 2\r\n",
    "helper.page_item_count(2) # should == -1 since the page is invalid\r\n",
    "\r\n",
    "# page_index takes an item index and returns the page that it belongs on\r\n",
    "helper.page_index(5) # should == 1 (zero based index)\r\n",
    "helper.page_index(2) # should == 0\r\n",
    "helper.page_index(20) # should == -1\r\n",
    "helper.page_index(-10) # should == -1 because negative indexes are invalid"
   ]
  },
  {
   "cell_type": "code",
   "execution_count": null,
   "id": "6eea5ed1-01f1-4cd8-9d1a-71e18890854f",
   "metadata": {},
   "outputs": [],
   "source": [
    "# TODO: complete this class\n",
    "from math import ceil, floor\n",
    "class PaginationHelper:\n",
    "\n",
    "    # The constructor takes in an array of items and a integer indicating\n",
    "    # how many items fit within a single page\n",
    "    def __init__(self, collection, items_per_page):\n",
    "        self.__collection = collection\n",
    "        self.__items_per_page = items_per_page\n",
    "\n",
    "    # returns the number of items within the entire collection\n",
    "    def item_count(self):\n",
    "        return len(self.__collection)\n",
    "\n",
    "    # returns the number of pages\n",
    "    def page_count(self):\n",
    "        return ceil(len(self.__collection) / self.__items_per_page)\n",
    "\n",
    "    # returns the number of items on the current page. page_index is zero based\n",
    "    # this method should return -1 for page_index values that are out of range\n",
    "    def page_item_count(self, page_index):\n",
    "        if page_index >= self.page_count():\n",
    "            return -1\n",
    "        return min(self.__items_per_page, len(self.__collection) - self.__items_per_page * page_index)\n",
    "\n",
    "    # determines what page an item is on. Zero based indexes.\n",
    "    # this method should return -1 for item_index values that are out of range\n",
    "    def page_index(self, item_index):\n",
    "        if 0 <= item_index < len(self.__collection):\n",
    "            return floor(item_index / self.__items_per_page)\n",
    "        return -1"
   ]
  }
 ],
 "metadata": {
  "kernelspec": {
   "display_name": "Python 3 (ipykernel)",
   "language": "python",
   "name": "python3"
  },
  "language_info": {
   "codemirror_mode": {
    "name": "ipython",
    "version": 3
   },
   "file_extension": ".py",
   "mimetype": "text/x-python",
   "name": "python",
   "nbconvert_exporter": "python",
   "pygments_lexer": "ipython3",
   "version": "3.11.4"
  }
 },
 "nbformat": 4,
 "nbformat_minor": 5
}
