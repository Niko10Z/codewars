{
 "cells": [
  {
   "cell_type": "markdown",
   "id": "5d1e17f2-04b8-4c66-88b5-a24b151c4451",
   "metadata": {},
   "source": [
    "DESCRIPTION:\r\n",
    "Given an array (arr) as an argument complete the function countSmileys that should return the total number of smiling faces.\r\n",
    "\r\n",
    "Rules for a smiling face:\r\n",
    "\r\n",
    "Each smiley face must contain a valid pair of eyes. Eyes can be marked as : or ;\r\n",
    "A smiley face can have a nose but it does not have to. Valid characters for a nose are - or ~\r\n",
    "Every smiling face must have a smiling mouth that should be marked with either ) or D\r\n",
    "No additional characters are allowed except for those mentioned.\r\n",
    "\r\n",
    "Valid smiley face examples: :) :D ;-D :~)\r\n",
    "Invalid smiley faces: ;( :> :} :]\r\n",
    "\r\n",
    "Example\r\n",
    "countSmileys([':)', ';(', ';}', ':-D']);       // should return 2;\r\n",
    "countSmileys([';D', ':-(', ':-)', ';~)']);     // should return 3;\r\n",
    "countSmileys([';]', ':[', ';*', ':$', ';-D']); // should return 1;\r\n",
    "Note\r\n",
    "In case of an empty array return 0. You will not be tested with invalid input (input will always be an array). Order of the face (eyes, nose, mouth) elements will always be the same."
   ]
  },
  {
   "cell_type": "code",
   "execution_count": null,
   "id": "7e78949c-88fe-4351-a701-099d659ae3f8",
   "metadata": {},
   "outputs": [],
   "source": [
    "import re\n",
    "def count_smileys(arr):\n",
    "    return sum(1 for i in arr if re.fullmatch(r'[;:][-~]?[D)]', i))"
   ]
  }
 ],
 "metadata": {
  "kernelspec": {
   "display_name": "Python 3 (ipykernel)",
   "language": "python",
   "name": "python3"
  },
  "language_info": {
   "codemirror_mode": {
    "name": "ipython",
    "version": 3
   },
   "file_extension": ".py",
   "mimetype": "text/x-python",
   "name": "python",
   "nbconvert_exporter": "python",
   "pygments_lexer": "ipython3",
   "version": "3.11.4"
  }
 },
 "nbformat": 4,
 "nbformat_minor": 5
}
