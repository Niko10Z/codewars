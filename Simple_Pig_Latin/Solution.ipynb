{
 "cells": [
  {
   "cell_type": "markdown",
   "id": "9ef3f9ce-56b8-47ec-92fa-19ad58a6eb1a",
   "metadata": {},
   "source": [
    "DESCRIPTION:\r\n",
    "Move the first letter of each word to the end of it, then add \"ay\" to the end of the word. Leave punctuation marks untouched.\r\n",
    "\r\n",
    "Examples\r\n",
    "pig_it('Pig latin is cool') # igPay atinlay siay oolcay\r\n",
    "pig_it('Hello world !')     # elloHay orldway !"
   ]
  },
  {
   "cell_type": "code",
   "execution_count": null,
   "id": "b7726d4d-3a49-4fe4-b403-064f9e50c1d4",
   "metadata": {},
   "outputs": [],
   "source": [
    "def pig_it(text):\n",
    "    return ' '.join(f'{word[1:]}{word[0]}ay' if word.isalpha() else word for word in text.split(' '))"
   ]
  }
 ],
 "metadata": {
  "kernelspec": {
   "display_name": "Python 3 (ipykernel)",
   "language": "python",
   "name": "python3"
  },
  "language_info": {
   "codemirror_mode": {
    "name": "ipython",
    "version": 3
   },
   "file_extension": ".py",
   "mimetype": "text/x-python",
   "name": "python",
   "nbconvert_exporter": "python",
   "pygments_lexer": "ipython3",
   "version": "3.11.4"
  }
 },
 "nbformat": 4,
 "nbformat_minor": 5
}
