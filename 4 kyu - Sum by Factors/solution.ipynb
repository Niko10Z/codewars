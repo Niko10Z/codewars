{
 "cells": [
  {
   "cell_type": "markdown",
   "id": "07bc2a46-c1e4-448e-967e-f32c0d6f366e",
   "metadata": {},
   "source": [
    "DESCRIPTION:\r\n",
    "Given an array of positive or negative integers\r\n",
    "\r\n",
    " I= [i1,..,in]\r\n",
    "\r\n",
    "you have to produce a sorted array P of the form\r\n",
    "\r\n",
    "[ [p, sum of all ij of I for which p is a prime factor (p positive) of ij] ...]\r\n",
    "\r\n",
    "P will be sorted by increasing order of the prime numbers. The final result has to be given as a string in Java, C#, C, C++ and as an array of arrays in other languages.\r\n",
    "\r\n",
    "Example:\r\n",
    "I = [12, 15] # result = [[2, 12], [3, 27], [5, 15]]\r\n",
    "[2, 3, 5] is the list of all prime factors of the elements of I, hence the result.\r\n",
    "\r\n",
    "Notes:\r\n",
    "\r\n",
    "It can happen that a sum is 0 if some numbers are negative!\r\n",
    "Example: I = [15, 30, -45] 5 divides 15, 30 and (-45) so 5 appears in the result, the sum of the numbers for which 5 is a factor is 0 so we have [5, 0] in the result amongst others.\r\n",
    "\r\n",
    "In Fortran - as in any other language - the returned string is not permitted to contain any redundant trailing whitespace: you can use dynamically allocated character strings."
   ]
  },
  {
   "cell_type": "code",
   "execution_count": null,
   "id": "d2be120f-d757-4e43-916a-ad13fd277ba3",
   "metadata": {},
   "outputs": [],
   "source": [
    "# def sum_for_list(lst):\n",
    "#     res = {}\n",
    "#     for el in lst:\n",
    "#         if el % 2 == 0:\n",
    "#             res[2] = res.get(2, 0) + el\n",
    "#     for i in range(3, max(max(lst), min(lst)*-1) + 1, 2):\n",
    "#         for el in lst:\n",
    "#             if not el % i:\n",
    "#                 if is_prime(i):\n",
    "#                     res[i] = res.get(i, 0) + el\n",
    "#     return [[k, v] for k, v in res.items()]\n",
    "\n",
    "from multiprocessing import Pool\n",
    "def is_prime(n):\n",
    "    if (not (n % 2)):\n",
    "        return False\n",
    "    if n > 3 and (not (n % 3)):\n",
    "        return False\n",
    "    if n > 5 and (not (n % 5)):\n",
    "        return False\n",
    "    if n > 7 and (not (n % 7)):\n",
    "        return False\n",
    "    for i in range(3, n//2+1, 2):\n",
    "        if (not (n % i)):\n",
    "            return False\n",
    "    return True\n",
    "\n",
    "def sum_for_list_one(el):\n",
    "    res = {}\n",
    "    if el % 2 == 0:\n",
    "        res[2] = res.get(2, 0) + el\n",
    "    for i in range(3, abs(el) + 1, 2):\n",
    "        if not el % i:\n",
    "            if is_prime(i):\n",
    "                res[i] = res.get(i, 0) + el\n",
    "    return res\n",
    "\n",
    "def sum_for_list(lst):\n",
    "    res = {}\n",
    "    with Pool(4) as p:\n",
    "        for el in p.map(sum_for_list_one, lst):\n",
    "            for key,value in el.items():\n",
    "                res[key] = res.get(key, 0) + value\n",
    "    return [[k, v] for k, v in sorted(res.items())]"
   ]
  }
 ],
 "metadata": {
  "kernelspec": {
   "display_name": "Python 3 (ipykernel)",
   "language": "python",
   "name": "python3"
  },
  "language_info": {
   "codemirror_mode": {
    "name": "ipython",
    "version": 3
   },
   "file_extension": ".py",
   "mimetype": "text/x-python",
   "name": "python",
   "nbconvert_exporter": "python",
   "pygments_lexer": "ipython3",
   "version": "3.11.4"
  }
 },
 "nbformat": 4,
 "nbformat_minor": 5
}
