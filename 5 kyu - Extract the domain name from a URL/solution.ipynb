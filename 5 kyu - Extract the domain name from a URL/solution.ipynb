{
 "cells": [
  {
   "cell_type": "markdown",
   "id": "1511239e-1bdf-47c4-b292-5418677d45ce",
   "metadata": {},
   "source": [
    "DESCRIPTION:\r\n",
    "Write a function that when given a URL as a string, parses out just the domain name and returns it as a string. For example:\r\n",
    "\r\n",
    "* url = \"http://github.com/carbonfive/raygun\" -> domain name = \"github\"\r\n",
    "* url = \"http://www.zombie-bites.com\"         -> domain name = \"zombie-bites\"\r\n",
    "* url = \"https://www.cnet.com\"                -> domain name = cnet\""
   ]
  },
  {
   "cell_type": "code",
   "execution_count": null,
   "id": "52d544c8-09d1-4920-8987-f6979a30c689",
   "metadata": {},
   "outputs": [],
   "source": [
    "from re import sub\n",
    "def domain_name(url):\n",
    "    return sub(r'(http://)|(https://)|(www\\.)|[\\./]\\w*', '', url)"
   ]
  }
 ],
 "metadata": {
  "kernelspec": {
   "display_name": "Python 3 (ipykernel)",
   "language": "python",
   "name": "python3"
  },
  "language_info": {
   "codemirror_mode": {
    "name": "ipython",
    "version": 3
   },
   "file_extension": ".py",
   "mimetype": "text/x-python",
   "name": "python",
   "nbconvert_exporter": "python",
   "pygments_lexer": "ipython3",
   "version": "3.11.4"
  }
 },
 "nbformat": 4,
 "nbformat_minor": 5
}
