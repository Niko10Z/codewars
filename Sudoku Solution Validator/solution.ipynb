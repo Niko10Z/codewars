{
 "cells": [
  {
   "cell_type": "markdown",
   "id": "16357b9c-4b59-4ce3-927d-48dec4d29400",
   "metadata": {},
   "source": [
    "DESCRIPTION:\r\n",
    "Sudoku Background\r\n",
    "Sudoku is a game played on a 9x9 grid. The goal of the game is to fill all cells of the grid with digits from 1 to 9, so that each column, each row, and each of the nine 3x3 sub-grids (also known as blocks) contain all of the digits from 1 to 9.\r\n",
    "(More info at: http://en.wikipedia.org/wiki/Sudoku)\r\n",
    "\r\n",
    "Sudoku Solution Validator\r\n",
    "Write a function validSolution/ValidateSolution/valid_solution() that accepts a 2D array representing a Sudoku board, and returns true if it is a valid solution, or false otherwise. The cells of the sudoku board may also contain 0's, which will represent empty cells. Boards containing one or more zeroes are considered to be invalid solutions.\r\n",
    "\r\n",
    "The board is always 9 cells by 9 cells, and every cell only contains integers from\n",
    "\n",
    "Examples\r\n",
    "validSolution([\r\n",
    "  [5, 3, 4, 6, 7, 8, 9, 1, 2],\r\n",
    "  [6, 7, 2, 1, 9, 5, 3, 4, 8],\r\n",
    "  [1, 9, 8, 3, 4, 2, 5, 6, 7],\r\n",
    "  [8, 5, 9, 7, 6, 1, 4, 2, 3],\r\n",
    "  [4, 2, 6, 8, 5, 3, 7, 9, 1],\r\n",
    "  [7, 1, 3, 9, 2, 4, 8, 5, 6],\r\n",
    "  [9, 6, 1, 5, 3, 7, 2, 8, 4],\r\n",
    "  [2, 8, 7, 4, 1, 9, 6, 3, 5],\r\n",
    "  [3, 4, 5, 2, 8, 6, 1, 7, 9]\r\n",
    "]); // => true\r\n",
    "validSolution([\r\n",
    "  [5, 3, 4, 6, 7, 8, 9, 1, 2], \r\n",
    "  [6, 7, 2, 1, 9, 0, 3, 4, 8],\r\n",
    "  [1, 0, 0, 3, 4, 2, 5, 6, 0],\r\n",
    "  [8, 5, 9, 7, 6, 1, 0, 2, 0],\r\n",
    "  [4, 2, 6, 8, 5, 3, 7, 9, 1],\r\n",
    "  [7, 1, 3, 9, 2, 4, 8, 5, 6],\r\n",
    "  [9, 0, 1, 5, 3, 7, 2, 1, 4],\r\n",
    "  [2, 8, 7, 4, 1, 9, 6, 3, 5],\r\n",
    "  [3, 0, 0, 4, 8, 1, 1, 7, 9]\r\n",
    "]); // => false 0 to 9."
   ]
  },
  {
   "cell_type": "code",
   "execution_count": null,
   "id": "18f53c65-0dee-4c57-b1e6-dd3ff43e6958",
   "metadata": {},
   "outputs": [],
   "source": [
    "import numpy as np\n",
    "def valid_solution(board):\n",
    "    arr = np.array(board)\n",
    "    res = []\n",
    "    for i in range(9):\n",
    "        res.append(arr[i, :])\n",
    "        res.append(arr[:, i])\n",
    "        if i in (0,3,6):\n",
    "            res.append(arr[i:i+3, 0:3].flatten())\n",
    "            res.append(arr[i:i+3, 3:6].flatten())\n",
    "            res.append(arr[i:i+3, 6:9].flatten())\n",
    "    for i in res:\n",
    "        if 0 in i or len(i) != len(set(i)):\n",
    "            return False\n",
    "    return True"
   ]
  }
 ],
 "metadata": {
  "kernelspec": {
   "display_name": "Python 3 (ipykernel)",
   "language": "python",
   "name": "python3"
  },
  "language_info": {
   "codemirror_mode": {
    "name": "ipython",
    "version": 3
   },
   "file_extension": ".py",
   "mimetype": "text/x-python",
   "name": "python",
   "nbconvert_exporter": "python",
   "pygments_lexer": "ipython3",
   "version": "3.11.4"
  }
 },
 "nbformat": 4,
 "nbformat_minor": 5
}
