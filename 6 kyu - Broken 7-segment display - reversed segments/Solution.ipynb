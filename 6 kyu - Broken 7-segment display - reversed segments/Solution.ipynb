{
 "cells": [
  {
   "cell_type": "markdown",
   "id": "25664067-d1e6-4fce-b886-ff44951cb513",
   "metadata": {},
   "source": [
    "Task\r\n",
    "There is a single-digit seven segment display. The display has a problem: there can be from 0 to 7 (all) \"reversed\" segments. A reversed segment is on when it should be off, and off when it should be on.\r\n",
    "\r\n",
    "The display shows numbers from 0 to 9 (inclusive). If there are reversed segments, numbers may look stran\n",
    "\n",
    "How numbers appear on a correctly working display:       0-5 with top segment reversed:\r\n",
    "  _         _    _         _    _    _    _    _                _              _\r\n",
    " | |    |   _|   _|  |_|  |_   |_     |  |_|  |_|         | |    |   _|   _|  |_|  |_\r\n",
    " |_|    |  |_    _|    |   _|  |_|    |  |_|   _|         |_|    |  |_    _|    |  \n",
    "\n",
    " Given some numbers as they appear on display, try to determine which segments are reversed. _|ge."
   ]
  },
  {
   "attachments": {
    "a73b7dca-6fb8-494e-875c-dd318a945f66.png": {
     "image/png": "[encoded data removed]"
    }
   },
   "cell_type": "markdown",
   "id": "0e08dfd9-6144-4ca8-ac5c-1a2fb1a6e17a",
   "metadata": {},
   "source": [
    "Segment names\n",
    "![segments.png](attachment:a73b7dca-6fb8-494e-875c-dd318a945f66.png)\n",
    "Note: in this kata segment names are lowercase, \"dp\" is not used.\n"
   ]
  },
  {
   "attachments": {
    "102301d1-e519-443e-abc2-23540059e6aa.PNG": {
     "image/png": "[encoded data removed]"
    }
   },
   "cell_type": "markdown",
   "id": "20d224f7-feee-4300-b418-289810aabbed",
   "metadata": {},
   "source": [
    "Input\n",
    "⬬ display [list of strings]\n",
    "Each element of the list is a 11-chars string that represents a number shown on display. Format: (3 rows, 3 chars per row) a fgb edc (the 1st and 3rd chars of the first row are always spaces). Each segment is represented by a char:\n",
    "\n",
    "off: space (' ')\n",
    "on: '_' (a,d,g) or '|' (b,c,e,f)\n",
    "\n",
    "Examples:\n",
    "![examples.PNG](attachment:102301d1-e519-443e-abc2-23540059e6aa.PNG)\n",
    "\n",
    "All inputs are valid; there is always at least one string."
   ]
  },
  {
   "cell_type": "markdown",
   "id": "d7cd1efb-abce-4824-8a6d-d2159242793b",
   "metadata": {},
   "source": [
    "Output\r\n",
    "[string] or None\r\n",
    "If the set of reversed segments can be determined:\r\n",
    "\r\n",
    "a lowercase string containing the names of reversed segments in alphabetical order (e.g. '', 'a', 'ceg', 'abcdefg');\r\n",
    "otherwise:\r\n",
    "\r\n",
    "None\r\n",
    "Examples\r\n",
    "       _ \r\n",
    " |_|  | |\r\n",
    " |_     |\r\n",
    "Input: ['   \\n|_|\\n|_ ', ' _ \\n| |\\n  |']\r\n",
    "Output: None (it could be 2,1 with a,f reversed, or 1,2 with c,d,e,f,g reversed)\r\n",
    "\r\n",
    "  _    _\r\n",
    " |_|  |    | | \r\n",
    " |_|  |_|    | \r\n",
    "Input: [' _ \\n|_|\\n|_|', ' _ \\n|  \\n|_|', '   \\n| |\\n  |']\r\n",
    "Output: 'g' (0,6,4 with g reversed, no other options)"
   ]
  },
  {
   "cell_type": "code",
   "execution_count": null,
   "id": "6b5632dc-cc60-497c-bd6a-7109f71826b6",
   "metadata": {},
   "outputs": [],
   "source": [
    "seg_names = ' a \\nfgb\\nedc'\n",
    "d_templates = [\n",
    "    ' _ \\n| |\\n|_|',\n",
    "    '   \\n  |\\n  |',\n",
    "    ' _ \\n _|\\n|_ ',\n",
    "    ' _ \\n _|\\n _|',\n",
    "    '   \\n|_|\\n  |',\n",
    "    ' _ \\n|_ \\n _|',\n",
    "    ' _ \\n|_ \\n|_|',\n",
    "    ' _ \\n  |\\n  |',\n",
    "    ' _ \\n|_|\\n|_|',\n",
    "    ' _ \\n|_|\\n _|',\n",
    "]\n",
    "\n",
    "def check_digit(d_str: str)->bool:\n",
    "    return d_str in d_templates\n",
    "\n",
    "def get_variants(templ: str)->list:\n",
    "    res = []\n",
    "    for elem in d_templates:\n",
    "        res.append(''.join(sorted([val for ind, val in enumerate(seg_names) if templ[ind] != elem[ind]])))\n",
    "    return res\n",
    "\n",
    "def invert_sections(d_string: str, variant: str)->str:\n",
    "    for ch in variant:\n",
    "        ind = seg_names.index(ch)\n",
    "        if d_string[ind] in ['_','|']:\n",
    "            d_string = d_string[:ind] + ' ' + d_string[ind + 1:]\n",
    "        else:\n",
    "            d_string = d_string[:ind] + '_' + d_string[ind + 1:] if ch in ['a','d','g'] else d_string[:ind] + '|' + d_string[ind + 1:]\n",
    "    return d_string\n",
    "\n",
    "def reversed_segments(display: str)->str | None:\n",
    "    if len(display) < 2:\n",
    "        return None\n",
    "    variants = get_variants(display.pop(0))\n",
    "    for elem in display:\n",
    "        variants = [el for el in variants if check_digit(invert_sections(elem, el))]\n",
    "    return variants[0] if len(variants) == 1 else None"
   ]
  }
 ],
 "metadata": {
  "kernelspec": {
   "display_name": "Python 3 (ipykernel)",
   "language": "python",
   "name": "python3"
  },
  "language_info": {
   "codemirror_mode": {
    "name": "ipython",
    "version": 3
   },
   "file_extension": ".py",
   "mimetype": "text/x-python",
   "name": "python",
   "nbconvert_exporter": "python",
   "pygments_lexer": "ipython3",
   "version": "3.11.4"
  }
 },
 "nbformat": 4,
 "nbformat_minor": 5
}
