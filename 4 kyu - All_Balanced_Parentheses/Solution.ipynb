{
 "cells": [
  {
   "cell_type": "markdown",
   "id": "2077ee01-3857-4bfc-badc-80b9401d75fb",
   "metadata": {},
   "source": [
    "DESCRIPTION:\r\n",
    "Write a function which makes a list of strings representing all of the ways you can balance n pairs of parentheses\r\n",
    "\r\n",
    "Examples\r\n",
    "balanced_parens(0) => [\"\"]\r\n",
    "balanced_parens(1) => [\"()\"]\r\n",
    "balanced_parens(2) => [\"()()\",\"(())\"]\r\n",
    "balanced_parens(3) => [\"()()()\",\"(())()\",\"()(())\",\"(()())\",\"((()))\"]"
   ]
  },
  {
   "cell_type": "code",
   "execution_count": null,
   "id": "f4e1643d-bc17-42c5-95d1-8b51021389ea",
   "metadata": {},
   "outputs": [],
   "source": [
    "def one_more_parentheses(p_list: list) -> list:\n",
    "    res_list = []\n",
    "    for tmp_str in p_list:\n",
    "        tmp_ind = tmp_str.find('(') + 1\n",
    "        while tmp_ind:\n",
    "            res_list.append(f'{tmp_str[0:tmp_ind]}(){tmp_str[tmp_ind:]}')\n",
    "            tmp_ind = tmp_str.find('(', tmp_ind) + 1\n",
    "        res_list.append(f'{tmp_str}()')\n",
    "    return [*set(res_list)]\n",
    "\n",
    "def balanced_parens(n):\n",
    "    res = ['']\n",
    "    for _ in range(n):\n",
    "        res = one_more_parentheses(res)\n",
    "    return res"
   ]
  }
 ],
 "metadata": {
  "kernelspec": {
   "display_name": "Python 3 (ipykernel)",
   "language": "python",
   "name": "python3"
  },
  "language_info": {
   "codemirror_mode": {
    "name": "ipython",
    "version": 3
   },
   "file_extension": ".py",
   "mimetype": "text/x-python",
   "name": "python",
   "nbconvert_exporter": "python",
   "pygments_lexer": "ipython3",
   "version": "3.11.4"
  }
 },
 "nbformat": 4,
 "nbformat_minor": 5
}
